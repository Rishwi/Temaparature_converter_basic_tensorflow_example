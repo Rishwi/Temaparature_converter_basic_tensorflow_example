{
  "nbformat": 4,
  "nbformat_minor": 0,
  "metadata": {
    "colab": {
      "name": "temparature_converter_model.ipynb",
      "version": "0.3.2",
      "provenance": [],
      "collapsed_sections": []
    },
    "kernelspec": {
      "name": "python3",
      "display_name": "Python 3"
    }
  },
  "cells": [
    {
      "metadata": {
        "id": "YZLZVNwsEhCS",
        "colab_type": "code",
        "colab": {}
      },
      "cell_type": "code",
      "source": [
        "import tensorflow as tf\n",
        "tf.logging.set_verbosity(tf.logging.ERROR)\n",
        "\n",
        "import numpy as np\n",
        "\n",
        "celsius_q    = np.array([-40, -10,  0,  8, 15, 22,  38],  dtype=float)           #features\n",
        "fahrenheit_a = np.array([-40,  14, 32, 46, 59, 72, 100],  dtype=float)           #labels\n",
        "\n",
        "for i,c in enumerate(celsius_q):\n",
        "  print(\"{} degrees Celsius = {} degrees Fahrenheit\".format(c, fahrenheit_a[i]))\n",
        "  \n",
        "l0 = tf.keras.layers.Dense(units=1, input_shape=[1])                             #creating a dense layer\n",
        "\n",
        "model = tf.keras.Sequential([l0])                                                #  \n",
        "\n",
        "model.compile(loss='mean_squared_error',\n",
        "              optimizer=tf.keras.optimizers.Adam(0.1))                           #Loss function calculates loss% and optimizer optimizes it\n",
        "\n",
        "history = model.fit(celsius_q, fahrenheit_a, epochs=800, verbose=False)          #fitting the model by passing features, labels, no of iterations, verbose\n",
        "print(\"Model training complete...\\nResults coming right now... hold your breathe\")\n",
        "\n",
        "import matplotlib.pyplot as plt\n",
        "plt.xlabel('Epoch Number')\n",
        "plt.ylabel(\"Loss Magnitude\")\n",
        "plt.plot(history.history['loss'])                                                #plotting the graph\n",
        "\n",
        "n=98.0\n",
        "pred = model.predict([n])                                                        #predicting farenheit value for new data using our trained model\n",
        "print(\"predicted value : {}\".format(pred))\n",
        "\n",
        "print(\"The layer weights are : \"+ str(l0.get_weights()))\n",
        "\n",
        "fcal=n*1.8+32\n",
        "per=pred*100/fcal\n",
        "print(\"Accuracy of the model is {}%\".format(per))"
      ],
      "execution_count": 0,
      "outputs": []
    }
  ]
}